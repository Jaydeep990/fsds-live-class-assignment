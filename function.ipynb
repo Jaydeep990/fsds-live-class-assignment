{
 "cells": [
  {
   "cell_type": "markdown",
   "id": "23015e79",
   "metadata": {},
   "source": [
    "## 1\\. write a function which will try to find out len of a string without using an inbuilt len function."
   ]
  },
  {
   "cell_type": "code",
   "execution_count": 1,
   "id": "49112c7f",
   "metadata": {},
   "outputs": [],
   "source": [
    "def len_of_string(string):\n",
    "    '''\n",
    "    This function return the numbers of elements in string.\n",
    "    \n",
    "    Parameter:\n",
    "        string(str) : The string\n",
    "    \n",
    "    Return:\n",
    "        len(int) : Number of item in string\n",
    "    '''\n",
    "    \n",
    "    # Create a variable len \n",
    "    len = 0\n",
    "    \n",
    "    # Set a loop for counting character in string\n",
    "    for character in string:\n",
    "        \n",
    "        # increment counting\n",
    "        len += 1\n",
    "        \n",
    "    # Return a len\n",
    "    return len"
   ]
  },
  {
   "cell_type": "code",
   "execution_count": 2,
   "id": "e51b55b9",
   "metadata": {},
   "outputs": [
    {
     "data": {
      "text/plain": [
       "7"
      ]
     },
     "execution_count": 2,
     "metadata": {},
     "output_type": "execute_result"
    }
   ],
   "source": [
    "len_of_string(\"Jaydeep\")"
   ]
  },
  {
   "cell_type": "markdown",
   "id": "afacbe62",
   "metadata": {},
   "source": [
    "## 2\\. write a function which  will be able to print an index of list element without using an index function"
   ]
  },
  {
   "cell_type": "code",
   "execution_count": 3,
   "id": "b329b231",
   "metadata": {},
   "outputs": [],
   "source": [
    "def print_index(lst):\n",
    "    '''\n",
    "    This function print an index.\n",
    "    \n",
    "    Parameter:\n",
    "        lst(list): list of element(number,string,etc..)\n",
    "        \n",
    "    Return:\n",
    "        None(NoneType)\n",
    "    '''\n",
    "    \n",
    "    # Number of item in the list\n",
    "    n = len(lst)\n",
    "    \n",
    "    # Set a loop for repetation\n",
    "    for index in range(n):\n",
    "        \n",
    "        # Print the index of the list\n",
    "        print(index,end=\" \")"
   ]
  },
  {
   "cell_type": "code",
   "execution_count": 4,
   "id": "1ecec1e1",
   "metadata": {},
   "outputs": [
    {
     "name": "stdout",
     "output_type": "stream",
     "text": [
      "0 1 2 3 4 "
     ]
    }
   ],
   "source": [
    "print_index([1,2,3,'jaydeep','agravat'])"
   ]
  },
  {
   "cell_type": "markdown",
   "id": "4d7218a0",
   "metadata": {},
   "source": [
    "## 3\\. write a function which will be able to print an ip address of your system"
   ]
  },
  {
   "cell_type": "code",
   "execution_count": 5,
   "id": "9a31ded3",
   "metadata": {},
   "outputs": [],
   "source": [
    "import socket\n",
    "\n",
    "def ip_address():\n",
    "    '''\n",
    "    This function print the IP address your system.\n",
    "    '''\n",
    "    hostname = socket.gethostname()\n",
    "    IPaddress = socket.gethostbyname(hostname)\n",
    "    print(IPaddress)"
   ]
  },
  {
   "cell_type": "code",
   "execution_count": 6,
   "id": "972bb799",
   "metadata": {},
   "outputs": [
    {
     "name": "stdout",
     "output_type": "stream",
     "text": [
      "192.168.43.227\n"
     ]
    }
   ],
   "source": [
    "ip_address()"
   ]
  },
  {
   "cell_type": "markdown",
   "id": "dcef8e79",
   "metadata": {},
   "source": [
    "## 4\\. write a function which will shutdown your system\n"
   ]
  },
  {
   "cell_type": "code",
   "execution_count": 7,
   "id": "ec8fcfee",
   "metadata": {},
   "outputs": [],
   "source": [
    "import os \n",
    "\n",
    "def shutdown():\n",
    "    '''\n",
    "    This function will shutdown your system.\n",
    "    '''\n",
    "    \n",
    "    permission = input(\"Do you wish to shutdown this system ? (yes/no)\")\n",
    "\n",
    "    if permission == 'yes':\n",
    "        os.system(\"shutdown /s /t 1\")\n",
    "    else:\n",
    "        print(\"freely\")"
   ]
  },
  {
   "cell_type": "code",
   "execution_count": 8,
   "id": "97a4bc6f",
   "metadata": {},
   "outputs": [
    {
     "name": "stdout",
     "output_type": "stream",
     "text": [
      "Do you wish to shutdown this system ? (yes/no)no\n",
      "freely\n"
     ]
    }
   ],
   "source": [
    "shutdown()"
   ]
  },
  {
   "cell_type": "markdown",
   "id": "6adff309",
   "metadata": {},
   "source": [
    "## 5\\. write a function which will take input as a list with any kind of numeric value and give an out as a multiplication of all the numeric data.\n",
    "<br>\n",
    "l = [3.5, 6.56, 4,5,\"sudh\" , \"ineuron\" , 'fsda bootcamp 2.0']\n",
    "'''"
   ]
  },
  {
   "cell_type": "code",
   "execution_count": 9,
   "id": "1281baee",
   "metadata": {},
   "outputs": [],
   "source": [
    "def mul_of_number(items):\n",
    "    '''\n",
    "    This function which will take input as a list with any \n",
    "    kind of numeric value and give an out as a multiplication\n",
    "    of all the numeric data.\n",
    "    \n",
    "    Parameter:\n",
    "        items(list): list of element(number,string,etc..)\n",
    "    '''\n",
    "    \n",
    "    # Create a variable mul\n",
    "    mul = 1\n",
    "    \n",
    "    # Set a loop for multiplication\n",
    "    for item in items:\n",
    "        \n",
    "        # Check it is numeric value\n",
    "        if isinstance(item,(float,int)):\n",
    "            mul *= item\n",
    "    \n",
    "    # Return multiplication of numeric value\n",
    "    return mul           "
   ]
  },
  {
   "cell_type": "code",
   "execution_count": 10,
   "id": "da41f945",
   "metadata": {},
   "outputs": [
    {
     "data": {
      "text/plain": [
       "459.19999999999993"
      ]
     },
     "execution_count": 10,
     "metadata": {},
     "output_type": "execute_result"
    }
   ],
   "source": [
    "l = [3.5, 6.56, 4,5,\"sudh\" , \"ineuron\" , 'fsda bootcamp 2.0']\n",
    "mul_of_number(l)"
   ]
  },
  {
   "cell_type": "markdown",
   "id": "88c954b5",
   "metadata": {},
   "source": [
    "## 6\\. write a function which will be able to read all the mails "
   ]
  },
  {
   "cell_type": "markdown",
   "id": "904fc6ae",
   "metadata": {},
   "source": [
    "## 7\\. write a function which will be able to send a mail to anyone "
   ]
  },
  {
   "cell_type": "markdown",
   "id": "01e264fd",
   "metadata": {},
   "source": [
    "## 8\\. write a function which will be able to read a doc/word file from your system \n"
   ]
  }
 ],
 "metadata": {
  "kernelspec": {
   "display_name": "Python 3 (ipykernel)",
   "language": "python",
   "name": "python3"
  },
  "language_info": {
   "codemirror_mode": {
    "name": "ipython",
    "version": 3
   },
   "file_extension": ".py",
   "mimetype": "text/x-python",
   "name": "python",
   "nbconvert_exporter": "python",
   "pygments_lexer": "ipython3",
   "version": "3.10.8"
  }
 },
 "nbformat": 4,
 "nbformat_minor": 5
}
